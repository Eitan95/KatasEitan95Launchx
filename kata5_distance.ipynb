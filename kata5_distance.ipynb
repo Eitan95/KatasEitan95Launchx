{
 "cells": [
  {
   "cell_type": "markdown",
   "metadata": {},
   "source": [
    "## Ejercicio 1 Operadores"
   ]
  },
  {
   "cell_type": "code",
   "execution_count": 3,
   "metadata": {},
   "outputs": [],
   "source": [
    "Earth = 149597870 \n",
    "Jupiter = 778547200\n",
    "sustraint = Earth - Jupiter\n",
    "\n",
    "\n"
   ]
  },
  {
   "cell_type": "code",
   "execution_count": 4,
   "metadata": {},
   "outputs": [
    {
     "name": "stdout",
     "output_type": "stream",
     "text": [
      "the distance is 628949330 km\n",
      "the distance is 390577533.93 milles\n"
     ]
    }
   ],
   "source": [
    "print( f\"\"\"the distance is {abs(Earth-Jupiter)} km\"\"\")\n",
    "print( f\"\"\"the distance is {abs((Earth-Jupiter)*0.621)} milles\"\"\")"
   ]
  },
  {
   "cell_type": "markdown",
   "metadata": {},
   "source": [
    "## Ejercicio 2 Cadenas y Números"
   ]
  },
  {
   "cell_type": "code",
   "execution_count": 5,
   "metadata": {},
   "outputs": [],
   "source": [
    "planet = input (\"Planet Name 1\")\n",
    "planet_dist = input (\"Distance\")\n",
    "planet2 = input (\"Planet Name 2\")\n",
    "planet2_dist = input (\"Distance\")\n"
   ]
  },
  {
   "cell_type": "code",
   "execution_count": 6,
   "metadata": {},
   "outputs": [],
   "source": [
    "planet_dist = int(planet_dist)\n",
    "planet2_dist = int(planet2_dist)\n"
   ]
  },
  {
   "cell_type": "code",
   "execution_count": 7,
   "metadata": {},
   "outputs": [
    {
     "name": "stdout",
     "output_type": "stream",
     "text": [
      "the distance betweenTierra and Mercurio is 1000 km \n",
      "the distance betweenTierra and Mercurio is 621.0 milles \n"
     ]
    }
   ],
   "source": [
    "print (f\"\"\"the distance between {planet} and {planet2} is {abs(planet_dist-planet2_dist)} km \"\"\")\n",
    "print (f\"\"\"the distance between {planet} and {planet2} is {abs((planet_dist-planet2_dist)*0.621)} milles \"\"\")"
   ]
  }
 ],
 "metadata": {
  "interpreter": {
   "hash": "32de9116bca5403d1d9059436dc8fdffd217cbdf10b83ee1cdf98c66427bfc6d"
  },
  "kernelspec": {
   "display_name": "Python 3.10.0 64-bit",
   "language": "python",
   "name": "python3"
  },
  "language_info": {
   "codemirror_mode": {
    "name": "ipython",
    "version": 3
   },
   "file_extension": ".py",
   "mimetype": "text/x-python",
   "name": "python",
   "nbconvert_exporter": "python",
   "pygments_lexer": "ipython3",
   "version": "3.10.0"
  },
  "orig_nbformat": 4
 },
 "nbformat": 4,
 "nbformat_minor": 2
}
