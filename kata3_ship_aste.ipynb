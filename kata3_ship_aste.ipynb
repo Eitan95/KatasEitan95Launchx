{
 "cells": [
  {
   "cell_type": "markdown",
   "metadata": {},
   "source": [
    "## Un asteroide se acerca"
   ]
  },
  {
   "cell_type": "code",
   "execution_count": 14,
   "metadata": {},
   "outputs": [
    {
     "name": "stdout",
     "output_type": "stream",
     "text": [
      "advertencia un asteroide se acerca a 49 km/s\n"
     ]
    }
   ],
   "source": [
    "asteroide = 49\n",
    "if asteroide > 25:\n",
    "    print ('advertencia un asteroide se acerca a ' + str(asteroide) + ' km/s')\n",
    "else:\n",
    "    print ('sigue con tu dia')"
   ]
  },
  {
   "cell_type": "code",
   "execution_count": 17,
   "metadata": {},
   "outputs": [
    {
     "name": "stdout",
     "output_type": "stream",
     "text": [
      "sigue con tu dia\n"
     ]
    }
   ],
   "source": [
    "asteroide = 19\n",
    "if asteroide > 20:\n",
    "    print ('mira hacia rayo de luz a ' + str(asteroide) + ' km/s')\n",
    "elif asteroide == 20:\n",
    "    print ('mira hacia rayo de luz a exactamente a 20 km/s')\n",
    "\n",
    "else:\n",
    "    print ('sigue con tu dia')"
   ]
  },
  {
   "cell_type": "code",
   "execution_count": 31,
   "metadata": {},
   "outputs": [
    {
     "name": "stdout",
     "output_type": "stream",
     "text": [
      "sigue con tu dia\n"
     ]
    }
   ],
   "source": [
    "v_asteroide = 26\n",
    "t_asteroide = 2000\n",
    "if v_asteroide > 25 and t_asteroide > 25:\n",
    "    print ('advertencia asteroide presenta riesgo velocidad: ' + str(v_asteroide) + ' km/s')\n",
    "elif v_asteroide >= 20 and v_asteroide <= 25:\n",
    "    print ('mira hacia rayo de luz a exactamente a 20 km/s')\n",
    "\n",
    "else:\n",
    "    print ('sigue con tu dia')"
   ]
  }
 ],
 "metadata": {
  "interpreter": {
   "hash": "32de9116bca5403d1d9059436dc8fdffd217cbdf10b83ee1cdf98c66427bfc6d"
  },
  "kernelspec": {
   "display_name": "Python 3.10.0 64-bit",
   "language": "python",
   "name": "python3"
  },
  "language_info": {
   "codemirror_mode": {
    "name": "ipython",
    "version": 3
   },
   "file_extension": ".py",
   "mimetype": "text/x-python",
   "name": "python",
   "nbconvert_exporter": "python",
   "pygments_lexer": "ipython3",
   "version": "3.10.0"
  },
  "orig_nbformat": 4
 },
 "nbformat": 4,
 "nbformat_minor": 2
}
